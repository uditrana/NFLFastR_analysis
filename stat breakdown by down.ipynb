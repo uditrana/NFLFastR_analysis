{
 "cells": [
  {
   "cell_type": "code",
   "execution_count": 27,
   "metadata": {
    "ExecuteTime": {
     "end_time": "2020-09-12T09:02:18.664700Z",
     "start_time": "2020-09-12T09:02:13.395981Z"
    }
   },
   "outputs": [],
   "source": [
    "import pandas as pd\n",
    "\n",
    "YEARS = [2019]\n",
    "\n",
    "data = pd.DataFrame()\n",
    "\n",
    "#ingest\n",
    "for year in YEARS:\n",
    "    data = data.append(pd.read_csv(f\"data/play_by_play_cleaned_{year}.csv.gz\", compression='gzip', low_memory=False).reset_index(drop=True), sort=True)\n",
    "\n",
    "pd.set_option('display.max_rows', 100)\n",
    "pd.set_option('display.max_columns', 300)\n",
    "data.reset_index(drop=True, inplace=True)"
   ]
  },
  {
   "cell_type": "code",
   "execution_count": 15,
   "metadata": {
    "ExecuteTime": {
     "end_time": "2020-09-12T08:18:33.820302Z",
     "start_time": "2020-09-12T08:18:33.754214Z"
    }
   },
   "outputs": [],
   "source": [
    "# filter data for game script\n",
    "DOWN_UPPER = 3\n",
    "NEUTRAL = False\n",
    "if NEUTRAL:\n",
    "    neutral = data.loc[ (data.play_type!=\"no_play\") & (data.qtr<5) &\n",
    "                           (data.down<=DOWN_UPPER) & (data.half_seconds_remaining>120) &\n",
    "                                     (data.wp>=.2) & (data.wp<=.8)].reset_index(drop=True)\n",
    "else:\n",
    "     neutral = data.loc[ (data.play_type!=\"no_play\") & (data.qtr<5)].reset_index(drop=True)"
   ]
  },
  {
   "cell_type": "code",
   "execution_count": 16,
   "metadata": {
    "ExecuteTime": {
     "end_time": "2020-09-12T08:18:34.775134Z",
     "start_time": "2020-09-12T08:18:34.730969Z"
    },
    "scrolled": true
   },
   "outputs": [
    {
     "data": {
      "text/html": [
       "<div>\n",
       "<style scoped>\n",
       "    .dataframe tbody tr th:only-of-type {\n",
       "        vertical-align: middle;\n",
       "    }\n",
       "\n",
       "    .dataframe tbody tr th {\n",
       "        vertical-align: top;\n",
       "    }\n",
       "\n",
       "    .dataframe thead th {\n",
       "        text-align: right;\n",
       "    }\n",
       "</style>\n",
       "<table border=\"1\" class=\"dataframe\">\n",
       "  <thead>\n",
       "    <tr style=\"text-align: right;\">\n",
       "      <th></th>\n",
       "      <th>posteam</th>\n",
       "      <th>down</th>\n",
       "      <th>play_count</th>\n",
       "      <th>pass_rate</th>\n",
       "      <th>total_epa</th>\n",
       "      <th>avg_epa</th>\n",
       "      <th>epa_succ_rate</th>\n",
       "    </tr>\n",
       "  </thead>\n",
       "  <tbody>\n",
       "    <tr>\n",
       "      <th>0</th>\n",
       "      <td>SEA</td>\n",
       "      <td>1.0</td>\n",
       "      <td>307</td>\n",
       "      <td>0.45</td>\n",
       "      <td>4.76</td>\n",
       "      <td>0.02</td>\n",
       "      <td>0.43</td>\n",
       "    </tr>\n",
       "    <tr>\n",
       "      <th>1</th>\n",
       "      <td>SEA</td>\n",
       "      <td>2.0</td>\n",
       "      <td>227</td>\n",
       "      <td>0.57</td>\n",
       "      <td>31.51</td>\n",
       "      <td>0.14</td>\n",
       "      <td>0.51</td>\n",
       "    </tr>\n",
       "    <tr>\n",
       "      <th>2</th>\n",
       "      <td>SEA</td>\n",
       "      <td>3.0</td>\n",
       "      <td>132</td>\n",
       "      <td>0.80</td>\n",
       "      <td>-14.20</td>\n",
       "      <td>-0.11</td>\n",
       "      <td>0.44</td>\n",
       "    </tr>\n",
       "  </tbody>\n",
       "</table>\n",
       "</div>"
      ],
      "text/plain": [
       "  posteam  down  play_count  pass_rate  total_epa  avg_epa  epa_succ_rate\n",
       "0     SEA   1.0         307       0.45       4.76     0.02           0.43\n",
       "1     SEA   2.0         227       0.57      31.51     0.14           0.51\n",
       "2     SEA   3.0         132       0.80     -14.20    -0.11           0.44"
      ]
     },
     "execution_count": 16,
     "metadata": {},
     "output_type": "execute_result"
    }
   ],
   "source": [
    "import numpy as np\n",
    "def epa_success(epa):\n",
    "    return 1 if epa>0 else 0\n",
    "sea = neutral.loc[(neutral.posteam==\"SEA\")]\n",
    "qtrData = sea.groupby(['posteam', 'down']).agg(\n",
    "                play_count = ('play_id', 'count'),\n",
    "                pass_rate = ('pass', 'mean'),\n",
    "                total_epa = ('epa', 'sum'),\n",
    "                avg_epa = ('epa', 'mean'),\n",
    "                epa_succ_rate = ('epa', lambda x: (x.map(epa_success).mean()))\n",
    "            ).round(2).reset_index()\n",
    "qtrData"
   ]
  },
  {
   "cell_type": "code",
   "execution_count": null,
   "metadata": {},
   "outputs": [],
   "source": []
  },
  {
   "cell_type": "code",
   "execution_count": null,
   "metadata": {},
   "outputs": [],
   "source": []
  }
 ],
 "metadata": {
  "kernelspec": {
   "display_name": "Python 3",
   "language": "python",
   "name": "python3"
  },
  "language_info": {
   "codemirror_mode": {
    "name": "ipython",
    "version": 3
   },
   "file_extension": ".py",
   "mimetype": "text/x-python",
   "name": "python",
   "nbconvert_exporter": "python",
   "pygments_lexer": "ipython3",
   "version": "3.8.3"
  },
  "toc": {
   "base_numbering": 1,
   "nav_menu": {},
   "number_sections": true,
   "sideBar": true,
   "skip_h1_title": false,
   "title_cell": "Table of Contents",
   "title_sidebar": "Contents",
   "toc_cell": false,
   "toc_position": {},
   "toc_section_display": true,
   "toc_window_display": false
  },
  "varInspector": {
   "cols": {
    "lenName": 16,
    "lenType": 16,
    "lenVar": 40
   },
   "kernels_config": {
    "python": {
     "delete_cmd_postfix": "",
     "delete_cmd_prefix": "del ",
     "library": "var_list.py",
     "varRefreshCmd": "print(var_dic_list())"
    },
    "r": {
     "delete_cmd_postfix": ") ",
     "delete_cmd_prefix": "rm(",
     "library": "var_list.r",
     "varRefreshCmd": "cat(var_dic_list()) "
    }
   },
   "types_to_exclude": [
    "module",
    "function",
    "builtin_function_or_method",
    "instance",
    "_Feature"
   ],
   "window_display": false
  }
 },
 "nbformat": 4,
 "nbformat_minor": 4
}
