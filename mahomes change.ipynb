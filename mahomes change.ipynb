{
 "cells": [
  {
   "cell_type": "code",
   "execution_count": 151,
   "metadata": {},
   "outputs": [],
   "source": [
    "YEARS = [2016, 2017, 2018, 2019, 2020]\n",
    "\n",
    "fastr_data = pd.DataFrame()\n",
    "\n",
    "#ingest\n",
    "for year in YEARS:\n",
    "    fastr_data = fastr_data.append(pd.read_csv(f\"data/play_by_play_cleaned_{year}.csv.gz\", compression='gzip', low_memory=False).reset_index(drop=True), sort=True)\n",
    "\n",
    "fastr_data.reset_index(drop=True, inplace=True)"
   ]
  },
  {
   "cell_type": "code",
   "execution_count": 152,
   "metadata": {
    "ExecuteTime": {
     "end_time": "2020-09-12T20:19:10.365834Z",
     "start_time": "2020-09-12T20:18:54.391822Z"
    }
   },
   "outputs": [],
   "source": [
    "import pandas as pd\n",
    "\n",
    "YEARS = [2016, 2017, 2018, 2019, 2020]\n",
    "\n",
    "ngs_data = pd.DataFrame()\n",
    "\n",
    "#ingest\n",
    "for year in YEARS:\n",
    "    ngs_data = ngs_data.append(pd.read_csv(f\"data/ngs_{year}_passing.csv\", low_memory=False).reset_index(drop=True), sort=True)\n",
    "\n",
    "pd.set_option('display.max_rows', 100)\n",
    "pd.set_option('display.max_columns', 300)\n",
    "ngs_data.reset_index(drop=True, inplace=True)\n",
    "# ngs_data[['season', 'week','player_display_name']].loc[(ngs_data.team_abbr=='KC') & (ngs_data.season==2016)]"
   ]
  },
  {
   "cell_type": "code",
   "execution_count": 160,
   "metadata": {
    "ExecuteTime": {
     "end_time": "2020-09-12T20:19:16.078036Z",
     "start_time": "2020-09-12T20:19:14.675160Z"
    }
   },
   "outputs": [
    {
     "output_type": "execute_result",
     "data": {
      "text/plain": "             QB    xCP  cpoe  avg_time_to_throw  avg_completed_air_yards  \\\nseason                                                                     \n2016      Smith  67.47 -0.40               2.38                     4.98   \n2017      Smith  67.56 -0.04               2.67                     5.66   \n2018    Mahomes  64.79  1.24               2.91                     6.38   \n2019    Mahomes  66.47 -0.56               2.82                     6.25   \n2020    Mahomes  70.73 -2.96               2.60                     5.60   \n\n        avg_intended_air_yards  avg_air_yards_to_sticks  \nseason                                                   \n2016                      7.00                    -1.71  \n2017                      7.44                    -1.39  \n2018                      9.15                     0.25  \n2019                      8.64                    -0.68  \n2020                      6.74                    -1.81  ",
      "text/html": "<div>\n<style scoped>\n    .dataframe tbody tr th:only-of-type {\n        vertical-align: middle;\n    }\n\n    .dataframe tbody tr th {\n        vertical-align: top;\n    }\n\n    .dataframe thead th {\n        text-align: right;\n    }\n</style>\n<table border=\"1\" class=\"dataframe\">\n  <thead>\n    <tr style=\"text-align: right;\">\n      <th></th>\n      <th>QB</th>\n      <th>xCP</th>\n      <th>cpoe</th>\n      <th>avg_time_to_throw</th>\n      <th>avg_completed_air_yards</th>\n      <th>avg_intended_air_yards</th>\n      <th>avg_air_yards_to_sticks</th>\n    </tr>\n    <tr>\n      <th>season</th>\n      <th></th>\n      <th></th>\n      <th></th>\n      <th></th>\n      <th></th>\n      <th></th>\n      <th></th>\n    </tr>\n  </thead>\n  <tbody>\n    <tr>\n      <th>2016</th>\n      <td>Smith</td>\n      <td>67.47</td>\n      <td>-0.40</td>\n      <td>2.38</td>\n      <td>4.98</td>\n      <td>7.00</td>\n      <td>-1.71</td>\n    </tr>\n    <tr>\n      <th>2017</th>\n      <td>Smith</td>\n      <td>67.56</td>\n      <td>-0.04</td>\n      <td>2.67</td>\n      <td>5.66</td>\n      <td>7.44</td>\n      <td>-1.39</td>\n    </tr>\n    <tr>\n      <th>2018</th>\n      <td>Mahomes</td>\n      <td>64.79</td>\n      <td>1.24</td>\n      <td>2.91</td>\n      <td>6.38</td>\n      <td>9.15</td>\n      <td>0.25</td>\n    </tr>\n    <tr>\n      <th>2019</th>\n      <td>Mahomes</td>\n      <td>66.47</td>\n      <td>-0.56</td>\n      <td>2.82</td>\n      <td>6.25</td>\n      <td>8.64</td>\n      <td>-0.68</td>\n    </tr>\n    <tr>\n      <th>2020</th>\n      <td>Mahomes</td>\n      <td>70.73</td>\n      <td>-2.96</td>\n      <td>2.60</td>\n      <td>5.60</td>\n      <td>6.74</td>\n      <td>-1.81</td>\n    </tr>\n  </tbody>\n</table>\n</div>"
     },
     "metadata": {},
     "execution_count": 160
    }
   ],
   "source": [
    "KC_memes = ngs_data[['player_last_name', 'season', 'expected_completion_percentage', 'completion_percentage_above_expectation', 'avg_time_to_throw', 'avg_completed_air_yards', 'avg_intended_air_yards',  'avg_air_yards_to_sticks']].loc[(ngs_data.team_abbr=='KC') & (ngs_data.week==0)].rename(columns={'player_last_name': 'QB', 'expected_completion_percentage': 'xCP', 'completion_percentage_above_expectation': 'cpoe'}).set_index('season').round(2)\n",
    "\n",
    "KC_memes"
   ]
  },
  {
   "cell_type": "code",
   "execution_count": 161,
   "metadata": {},
   "outputs": [
    {
     "output_type": "execute_result",
     "data": {
      "text/plain": "            QB    xCP  cpoe  avg_time_to_throw  avg_completed_air_yards  \\\nseason                                                                    \n2016    Wilson  59.61  5.05               2.61                     7.25   \n2017    Wilson  59.44  1.86               3.05                     6.93   \n2018    Wilson  61.37  4.20               3.02                     7.33   \n2019    Wilson  61.30  4.79               2.85                     6.85   \n2020    Wilson  66.64  8.54               3.02                     7.16   \n\n        avg_intended_air_yards  avg_air_yards_to_sticks  \nseason                                                   \n2016                      9.24                     0.00  \n2017                      9.81                     0.39  \n2018                      9.24                     0.03  \n2019                      9.44                     0.24  \n2020                      8.33                    -0.12  ",
      "text/html": "<div>\n<style scoped>\n    .dataframe tbody tr th:only-of-type {\n        vertical-align: middle;\n    }\n\n    .dataframe tbody tr th {\n        vertical-align: top;\n    }\n\n    .dataframe thead th {\n        text-align: right;\n    }\n</style>\n<table border=\"1\" class=\"dataframe\">\n  <thead>\n    <tr style=\"text-align: right;\">\n      <th></th>\n      <th>QB</th>\n      <th>xCP</th>\n      <th>cpoe</th>\n      <th>avg_time_to_throw</th>\n      <th>avg_completed_air_yards</th>\n      <th>avg_intended_air_yards</th>\n      <th>avg_air_yards_to_sticks</th>\n    </tr>\n    <tr>\n      <th>season</th>\n      <th></th>\n      <th></th>\n      <th></th>\n      <th></th>\n      <th></th>\n      <th></th>\n      <th></th>\n    </tr>\n  </thead>\n  <tbody>\n    <tr>\n      <th>2016</th>\n      <td>Wilson</td>\n      <td>59.61</td>\n      <td>5.05</td>\n      <td>2.61</td>\n      <td>7.25</td>\n      <td>9.24</td>\n      <td>0.00</td>\n    </tr>\n    <tr>\n      <th>2017</th>\n      <td>Wilson</td>\n      <td>59.44</td>\n      <td>1.86</td>\n      <td>3.05</td>\n      <td>6.93</td>\n      <td>9.81</td>\n      <td>0.39</td>\n    </tr>\n    <tr>\n      <th>2018</th>\n      <td>Wilson</td>\n      <td>61.37</td>\n      <td>4.20</td>\n      <td>3.02</td>\n      <td>7.33</td>\n      <td>9.24</td>\n      <td>0.03</td>\n    </tr>\n    <tr>\n      <th>2019</th>\n      <td>Wilson</td>\n      <td>61.30</td>\n      <td>4.79</td>\n      <td>2.85</td>\n      <td>6.85</td>\n      <td>9.44</td>\n      <td>0.24</td>\n    </tr>\n    <tr>\n      <th>2020</th>\n      <td>Wilson</td>\n      <td>66.64</td>\n      <td>8.54</td>\n      <td>3.02</td>\n      <td>7.16</td>\n      <td>8.33</td>\n      <td>-0.12</td>\n    </tr>\n  </tbody>\n</table>\n</div>"
     },
     "metadata": {},
     "execution_count": 161
    }
   ],
   "source": [
    "SEA_memes = ngs_data[['player_last_name', 'season', 'expected_completion_percentage', 'completion_percentage_above_expectation', 'avg_time_to_throw', 'avg_completed_air_yards', 'avg_intended_air_yards',  'avg_air_yards_to_sticks']].loc[(ngs_data.team_abbr=='SEA') & (ngs_data.week==0)].rename(columns={'player_last_name': 'QB', 'expected_completion_percentage': 'xCP', 'completion_percentage_above_expectation': 'cpoe'}).set_index('season').round(2)\n",
    "\n",
    "SEA_memes.round(2)"
   ]
  },
  {
   "cell_type": "code",
   "execution_count": 162,
   "metadata": {},
   "outputs": [],
   "source": [
    "sea = fastr_data.loc[(fastr_data.posteam == 'SEA') & (fastr_data.play_type=='pass') & (fastr_data.passer=='R.Wilson')].reset_index()\n",
    "kc = fastr_data.loc[(fastr_data.posteam == 'KC') & (fastr_data.play_type=='pass') & (((fastr_data.passer=='A.Smith') & (fastr_data.season<2018)) | ((fastr_data.passer=='P.Mahomes') & (fastr_data.season>=2018)))].reset_index()"
   ]
  },
  {
   "cell_type": "code",
   "execution_count": 163,
   "metadata": {},
   "outputs": [
    {
     "output_type": "execute_result",
     "data": {
      "text/plain": "    passer  comp_air_epa  air_yards  complete_pass\n0  A.Smith      0.057867        5.0            1.0\n1  A.Smith      0.711557        6.0            1.0\n2  A.Smith     -0.260589        3.0            1.0\n3  A.Smith      0.000000       12.0            0.0\n4  A.Smith      1.230686       12.0            1.0",
      "text/html": "<div>\n<style scoped>\n    .dataframe tbody tr th:only-of-type {\n        vertical-align: middle;\n    }\n\n    .dataframe tbody tr th {\n        vertical-align: top;\n    }\n\n    .dataframe thead th {\n        text-align: right;\n    }\n</style>\n<table border=\"1\" class=\"dataframe\">\n  <thead>\n    <tr style=\"text-align: right;\">\n      <th></th>\n      <th>passer</th>\n      <th>comp_air_epa</th>\n      <th>air_yards</th>\n      <th>complete_pass</th>\n    </tr>\n  </thead>\n  <tbody>\n    <tr>\n      <th>0</th>\n      <td>A.Smith</td>\n      <td>0.057867</td>\n      <td>5.0</td>\n      <td>1.0</td>\n    </tr>\n    <tr>\n      <th>1</th>\n      <td>A.Smith</td>\n      <td>0.711557</td>\n      <td>6.0</td>\n      <td>1.0</td>\n    </tr>\n    <tr>\n      <th>2</th>\n      <td>A.Smith</td>\n      <td>-0.260589</td>\n      <td>3.0</td>\n      <td>1.0</td>\n    </tr>\n    <tr>\n      <th>3</th>\n      <td>A.Smith</td>\n      <td>0.000000</td>\n      <td>12.0</td>\n      <td>0.0</td>\n    </tr>\n    <tr>\n      <th>4</th>\n      <td>A.Smith</td>\n      <td>1.230686</td>\n      <td>12.0</td>\n      <td>1.0</td>\n    </tr>\n  </tbody>\n</table>\n</div>"
     },
     "metadata": {},
     "execution_count": 163
    }
   ],
   "source": [
    "kc[['passer', 'comp_air_epa', 'air_yards', 'complete_pass']].head()"
   ]
  },
  {
   "cell_type": "code",
   "execution_count": 164,
   "metadata": {},
   "outputs": [
    {
     "output_type": "execute_result",
     "data": {
      "text/plain": "        avg_completed_air_epa\nseason                       \n2016                     0.04\n2017                     0.09\n2018                     0.20\n2019                     0.21\n2020                     0.06",
      "text/html": "<div>\n<style scoped>\n    .dataframe tbody tr th:only-of-type {\n        vertical-align: middle;\n    }\n\n    .dataframe tbody tr th {\n        vertical-align: top;\n    }\n\n    .dataframe thead th {\n        text-align: right;\n    }\n</style>\n<table border=\"1\" class=\"dataframe\">\n  <thead>\n    <tr style=\"text-align: right;\">\n      <th></th>\n      <th>avg_completed_air_epa</th>\n    </tr>\n    <tr>\n      <th>season</th>\n      <th></th>\n    </tr>\n  </thead>\n  <tbody>\n    <tr>\n      <th>2016</th>\n      <td>0.04</td>\n    </tr>\n    <tr>\n      <th>2017</th>\n      <td>0.09</td>\n    </tr>\n    <tr>\n      <th>2018</th>\n      <td>0.20</td>\n    </tr>\n    <tr>\n      <th>2019</th>\n      <td>0.21</td>\n    </tr>\n    <tr>\n      <th>2020</th>\n      <td>0.06</td>\n    </tr>\n  </tbody>\n</table>\n</div>"
     },
     "metadata": {},
     "execution_count": 164
    }
   ],
   "source": [
    "kc_epa = kc.loc[(kc.complete_pass>0.5)].groupby(['season'], as_index=False).agg(\n",
    "    avg_completed_air_epa = ('comp_air_epa', 'mean')\n",
    ").set_index('season').round(2)\n",
    "kc_epa"
   ]
  },
  {
   "cell_type": "code",
   "execution_count": 165,
   "metadata": {},
   "outputs": [
    {
     "output_type": "execute_result",
     "data": {
      "text/plain": "        avg_completed_air_epa\nseason                       \n2016                     0.28\n2017                     0.30\n2018                     0.42\n2019                     0.36\n2020                     0.37",
      "text/html": "<div>\n<style scoped>\n    .dataframe tbody tr th:only-of-type {\n        vertical-align: middle;\n    }\n\n    .dataframe tbody tr th {\n        vertical-align: top;\n    }\n\n    .dataframe thead th {\n        text-align: right;\n    }\n</style>\n<table border=\"1\" class=\"dataframe\">\n  <thead>\n    <tr style=\"text-align: right;\">\n      <th></th>\n      <th>avg_completed_air_epa</th>\n    </tr>\n    <tr>\n      <th>season</th>\n      <th></th>\n    </tr>\n  </thead>\n  <tbody>\n    <tr>\n      <th>2016</th>\n      <td>0.28</td>\n    </tr>\n    <tr>\n      <th>2017</th>\n      <td>0.30</td>\n    </tr>\n    <tr>\n      <th>2018</th>\n      <td>0.42</td>\n    </tr>\n    <tr>\n      <th>2019</th>\n      <td>0.36</td>\n    </tr>\n    <tr>\n      <th>2020</th>\n      <td>0.37</td>\n    </tr>\n  </tbody>\n</table>\n</div>"
     },
     "metadata": {},
     "execution_count": 165
    }
   ],
   "source": [
    "sea_epa = sea.loc[(sea.complete_pass>0.5)].groupby(['season'], as_index=False).agg(\n",
    "    avg_completed_air_epa = ('comp_air_epa', 'mean')\n",
    ").set_index('season').round(2)\n",
    "sea_epa"
   ]
  },
  {
   "cell_type": "code",
   "execution_count": 171,
   "metadata": {},
   "outputs": [
    {
     "output_type": "error",
     "ename": "PermissionError",
     "evalue": "[Errno 13] Permission denied: &#39;./saved/KC_passing_16-20.csv&#39;",
     "traceback": [
      "\u001b[0;31m---------------------------------------------------------------------------\u001b[0m",
      "\u001b[0;31mPermissionError\u001b[0m                           Traceback (most recent call last)",
      "\u001b[0;32m&lt;ipython-input-171-3337083716ad&gt;\u001b[0m in \u001b[0;36m&lt;module&gt;\u001b[0;34m\u001b[0m\n\u001b[1;32m      1\u001b[0m \u001b[0mdata\u001b[0m \u001b[0;34m=\u001b[0m \u001b[0mKC_memes\u001b[0m\u001b[0;34m.\u001b[0m\u001b[0mjoin\u001b[0m\u001b[0;34m(\u001b[0m\u001b[0mkc_epa\u001b[0m\u001b[0;34m)\u001b[0m\u001b[0;34m.\u001b[0m\u001b[0mappend\u001b[0m\u001b[0;34m(\u001b[0m\u001b[0mSEA_memes\u001b[0m\u001b[0;34m.\u001b[0m\u001b[0mjoin\u001b[0m\u001b[0;34m(\u001b[0m\u001b[0mkc_epa\u001b[0m\u001b[0;34m)\u001b[0m\u001b[0;34m)\u001b[0m\u001b[0;34m.\u001b[0m\u001b[0mrename\u001b[0m\u001b[0;34m(\u001b[0m\u001b[0mcolumns\u001b[0m\u001b[0;34m=\u001b[0m\u001b[0;34m{\u001b[0m\u001b[0;34m&#39;player_display_name&#39;\u001b[0m\u001b[0;34m:\u001b[0m \u001b[0;34m&#39;QB&#39;\u001b[0m\u001b[0;34m}\u001b[0m\u001b[0;34m)\u001b[0m\u001b[0;34m.\u001b[0m\u001b[0mreset_index\u001b[0m\u001b[0;34m(\u001b[0m\u001b[0;34m)\u001b[0m\u001b[0;34m\u001b[0m\u001b[0;34m\u001b[0m\u001b[0m\n\u001b[0;32m----&gt; 2\u001b[0;31m \u001b[0mdata\u001b[0m\u001b[0;34m.\u001b[0m\u001b[0mto_csv\u001b[0m\u001b[0;34m(\u001b[0m\u001b[0;34m&#39;./saved/KC_passing_16-20.csv&#39;\u001b[0m\u001b[0;34m,\u001b[0m \u001b[0mindex\u001b[0m\u001b[0;34m=\u001b[0m\u001b[0;32mFalse\u001b[0m\u001b[0;34m)\u001b[0m\u001b[0;34m\u001b[0m\u001b[0;34m\u001b[0m\u001b[0m\n\u001b[0m\u001b[1;32m      3\u001b[0m \u001b[0mdata\u001b[0m\u001b[0;34m\u001b[0m\u001b[0;34m\u001b[0m\u001b[0m\n",
      "\u001b[0;32m~/.local/lib/python3.8/site-packages/pandas/core/generic.py\u001b[0m in \u001b[0;36mto_csv\u001b[0;34m(self, path_or_buf, sep, na_rep, float_format, columns, header, index, index_label, mode, encoding, compression, quoting, quotechar, line_terminator, chunksize, date_format, doublequote, escapechar, decimal, errors)\u001b[0m\n\u001b[1;32m   3168\u001b[0m             \u001b[0mdecimal\u001b[0m\u001b[0;34m=\u001b[0m\u001b[0mdecimal\u001b[0m\u001b[0;34m,\u001b[0m\u001b[0;34m\u001b[0m\u001b[0;34m\u001b[0m\u001b[0m\n\u001b[1;32m   3169\u001b[0m         )\n\u001b[0;32m-&gt; 3170\u001b[0;31m         \u001b[0mformatter\u001b[0m\u001b[0;34m.\u001b[0m\u001b[0msave\u001b[0m\u001b[0;34m(\u001b[0m\u001b[0;34m)\u001b[0m\u001b[0;34m\u001b[0m\u001b[0;34m\u001b[0m\u001b[0m\n\u001b[0m\u001b[1;32m   3171\u001b[0m \u001b[0;34m\u001b[0m\u001b[0m\n\u001b[1;32m   3172\u001b[0m         \u001b[0;32mif\u001b[0m \u001b[0mpath_or_buf\u001b[0m \u001b[0;32mis\u001b[0m \u001b[0;32mNone\u001b[0m\u001b[0;34m:\u001b[0m\u001b[0;34m\u001b[0m\u001b[0;34m\u001b[0m\u001b[0m\n",
      "\u001b[0;32m~/.local/lib/python3.8/site-packages/pandas/io/formats/csvs.py\u001b[0m in \u001b[0;36msave\u001b[0;34m(self)\u001b[0m\n\u001b[1;32m    183\u001b[0m             \u001b[0mclose\u001b[0m \u001b[0;34m=\u001b[0m \u001b[0;32mFalse\u001b[0m\u001b[0;34m\u001b[0m\u001b[0;34m\u001b[0m\u001b[0m\n\u001b[1;32m    184\u001b[0m         \u001b[0;32melse\u001b[0m\u001b[0;34m:\u001b[0m\u001b[0;34m\u001b[0m\u001b[0;34m\u001b[0m\u001b[0m\n\u001b[0;32m--&gt; 185\u001b[0;31m             f, handles = get_handle(\n\u001b[0m\u001b[1;32m    186\u001b[0m                 \u001b[0mself\u001b[0m\u001b[0;34m.\u001b[0m\u001b[0mpath_or_buf\u001b[0m\u001b[0;34m,\u001b[0m\u001b[0;34m\u001b[0m\u001b[0;34m\u001b[0m\u001b[0m\n\u001b[1;32m    187\u001b[0m                 \u001b[0mself\u001b[0m\u001b[0;34m.\u001b[0m\u001b[0mmode\u001b[0m\u001b[0;34m,\u001b[0m\u001b[0;34m\u001b[0m\u001b[0;34m\u001b[0m\u001b[0m\n",
      "\u001b[0;32m~/.local/lib/python3.8/site-packages/pandas/io/common.py\u001b[0m in \u001b[0;36mget_handle\u001b[0;34m(path_or_buf, mode, encoding, compression, memory_map, is_text, errors)\u001b[0m\n\u001b[1;32m    491\u001b[0m         \u001b[0;32mif\u001b[0m \u001b[0mencoding\u001b[0m\u001b[0;34m:\u001b[0m\u001b[0;34m\u001b[0m\u001b[0;34m\u001b[0m\u001b[0m\n\u001b[1;32m    492\u001b[0m             \u001b[0;31m# Encoding\u001b[0m\u001b[0;34m\u001b[0m\u001b[0;34m\u001b[0m\u001b[0;34m\u001b[0m\u001b[0m\n\u001b[0;32m--&gt; 493\u001b[0;31m             \u001b[0mf\u001b[0m \u001b[0;34m=\u001b[0m \u001b[0mopen\u001b[0m\u001b[0;34m(\u001b[0m\u001b[0mpath_or_buf\u001b[0m\u001b[0;34m,\u001b[0m \u001b[0mmode\u001b[0m\u001b[0;34m,\u001b[0m \u001b[0mencoding\u001b[0m\u001b[0;34m=\u001b[0m\u001b[0mencoding\u001b[0m\u001b[0;34m,\u001b[0m \u001b[0merrors\u001b[0m\u001b[0;34m=\u001b[0m\u001b[0merrors\u001b[0m\u001b[0;34m,\u001b[0m \u001b[0mnewline\u001b[0m\u001b[0;34m=\u001b[0m\u001b[0;34m&quot;&quot;\u001b[0m\u001b[0;34m)\u001b[0m\u001b[0;34m\u001b[0m\u001b[0;34m\u001b[0m\u001b[0m\n\u001b[0m\u001b[1;32m    494\u001b[0m         \u001b[0;32melif\u001b[0m \u001b[0mis_text\u001b[0m\u001b[0;34m:\u001b[0m\u001b[0;34m\u001b[0m\u001b[0;34m\u001b[0m\u001b[0m\n\u001b[1;32m    495\u001b[0m             \u001b[0;31m# No explicit encoding\u001b[0m\u001b[0;34m\u001b[0m\u001b[0;34m\u001b[0m\u001b[0;34m\u001b[0m\u001b[0m\n",
      "\u001b[0;31mPermissionError\u001b[0m: [Errno 13] Permission denied: &#39;./saved/KC_passing_16-20.csv&#39;"
     ]
    }
   ],
   "source": [
    "final = KC_memes.join(kc_epa).append(SEA_memes.join(kc_epa)).rename(columns={'player_display_name': 'QB'}).reset_index()\n",
    "final.to_csv('./saved/KC_passing_16-20.csv', index=False)"
   ]
  },
  {
   "cell_type": "code",
   "execution_count": 172,
   "metadata": {},
   "outputs": [
    {
     "output_type": "execute_result",
     "data": {
      "text/plain": "   season       QB    xCP  cpoe  avg_time_to_throw  avg_completed_air_yards  \\\n0    2016    Smith  67.47 -0.40               2.38                     4.98   \n1    2017    Smith  67.56 -0.04               2.67                     5.66   \n2    2018  Mahomes  64.79  1.24               2.91                     6.38   \n3    2019  Mahomes  66.47 -0.56               2.82                     6.25   \n4    2020  Mahomes  70.73 -2.96               2.60                     5.60   \n5    2016   Wilson  59.61  5.05               2.61                     7.25   \n6    2017   Wilson  59.44  1.86               3.05                     6.93   \n7    2018   Wilson  61.37  4.20               3.02                     7.33   \n8    2019   Wilson  61.30  4.79               2.85                     6.85   \n9    2020   Wilson  66.64  8.54               3.02                     7.16   \n\n   avg_intended_air_yards  avg_air_yards_to_sticks  avg_completed_air_epa  \n0                    7.00                    -1.71                   0.04  \n1                    7.44                    -1.39                   0.09  \n2                    9.15                     0.25                   0.20  \n3                    8.64                    -0.68                   0.21  \n4                    6.74                    -1.81                   0.06  \n5                    9.24                     0.00                   0.04  \n6                    9.81                     0.39                   0.09  \n7                    9.24                     0.03                   0.20  \n8                    9.44                     0.24                   0.21  \n9                    8.33                    -0.12                   0.06  ",
      "text/html": "<div>\n<style scoped>\n    .dataframe tbody tr th:only-of-type {\n        vertical-align: middle;\n    }\n\n    .dataframe tbody tr th {\n        vertical-align: top;\n    }\n\n    .dataframe thead th {\n        text-align: right;\n    }\n</style>\n<table border=\"1\" class=\"dataframe\">\n  <thead>\n    <tr style=\"text-align: right;\">\n      <th></th>\n      <th>season</th>\n      <th>QB</th>\n      <th>xCP</th>\n      <th>cpoe</th>\n      <th>avg_time_to_throw</th>\n      <th>avg_completed_air_yards</th>\n      <th>avg_intended_air_yards</th>\n      <th>avg_air_yards_to_sticks</th>\n      <th>avg_completed_air_epa</th>\n    </tr>\n  </thead>\n  <tbody>\n    <tr>\n      <th>0</th>\n      <td>2016</td>\n      <td>Smith</td>\n      <td>67.47</td>\n      <td>-0.40</td>\n      <td>2.38</td>\n      <td>4.98</td>\n      <td>7.00</td>\n      <td>-1.71</td>\n      <td>0.04</td>\n    </tr>\n    <tr>\n      <th>1</th>\n      <td>2017</td>\n      <td>Smith</td>\n      <td>67.56</td>\n      <td>-0.04</td>\n      <td>2.67</td>\n      <td>5.66</td>\n      <td>7.44</td>\n      <td>-1.39</td>\n      <td>0.09</td>\n    </tr>\n    <tr>\n      <th>2</th>\n      <td>2018</td>\n      <td>Mahomes</td>\n      <td>64.79</td>\n      <td>1.24</td>\n      <td>2.91</td>\n      <td>6.38</td>\n      <td>9.15</td>\n      <td>0.25</td>\n      <td>0.20</td>\n    </tr>\n    <tr>\n      <th>3</th>\n      <td>2019</td>\n      <td>Mahomes</td>\n      <td>66.47</td>\n      <td>-0.56</td>\n      <td>2.82</td>\n      <td>6.25</td>\n      <td>8.64</td>\n      <td>-0.68</td>\n      <td>0.21</td>\n    </tr>\n    <tr>\n      <th>4</th>\n      <td>2020</td>\n      <td>Mahomes</td>\n      <td>70.73</td>\n      <td>-2.96</td>\n      <td>2.60</td>\n      <td>5.60</td>\n      <td>6.74</td>\n      <td>-1.81</td>\n      <td>0.06</td>\n    </tr>\n    <tr>\n      <th>5</th>\n      <td>2016</td>\n      <td>Wilson</td>\n      <td>59.61</td>\n      <td>5.05</td>\n      <td>2.61</td>\n      <td>7.25</td>\n      <td>9.24</td>\n      <td>0.00</td>\n      <td>0.04</td>\n    </tr>\n    <tr>\n      <th>6</th>\n      <td>2017</td>\n      <td>Wilson</td>\n      <td>59.44</td>\n      <td>1.86</td>\n      <td>3.05</td>\n      <td>6.93</td>\n      <td>9.81</td>\n      <td>0.39</td>\n      <td>0.09</td>\n    </tr>\n    <tr>\n      <th>7</th>\n      <td>2018</td>\n      <td>Wilson</td>\n      <td>61.37</td>\n      <td>4.20</td>\n      <td>3.02</td>\n      <td>7.33</td>\n      <td>9.24</td>\n      <td>0.03</td>\n      <td>0.20</td>\n    </tr>\n    <tr>\n      <th>8</th>\n      <td>2019</td>\n      <td>Wilson</td>\n      <td>61.30</td>\n      <td>4.79</td>\n      <td>2.85</td>\n      <td>6.85</td>\n      <td>9.44</td>\n      <td>0.24</td>\n      <td>0.21</td>\n    </tr>\n    <tr>\n      <th>9</th>\n      <td>2020</td>\n      <td>Wilson</td>\n      <td>66.64</td>\n      <td>8.54</td>\n      <td>3.02</td>\n      <td>7.16</td>\n      <td>8.33</td>\n      <td>-0.12</td>\n      <td>0.06</td>\n    </tr>\n  </tbody>\n</table>\n</div>"
     },
     "metadata": {},
     "execution_count": 172
    }
   ],
   "source": [
    "data"
   ]
  },
  {
   "cell_type": "code",
   "execution_count": null,
   "metadata": {},
   "outputs": [],
   "source": []
  }
 ],
 "metadata": {
  "kernelspec": {
   "display_name": "Python 3",
   "language": "python",
   "name": "python3"
  },
  "language_info": {
   "codemirror_mode": {
    "name": "ipython",
    "version": 3
   },
   "file_extension": ".py",
   "mimetype": "text/x-python",
   "name": "python",
   "nbconvert_exporter": "python",
   "pygments_lexer": "ipython3",
   "version": "3.8.2-final"
  },
  "toc": {
   "base_numbering": 1,
   "nav_menu": {},
   "number_sections": true,
   "sideBar": true,
   "skip_h1_title": false,
   "title_cell": "Table of Contents",
   "title_sidebar": "Contents",
   "toc_cell": false,
   "toc_position": {},
   "toc_section_display": true,
   "toc_window_display": false
  },
  "varInspector": {
   "cols": {
    "lenName": 16,
    "lenType": 16,
    "lenVar": 40
   },
   "kernels_config": {
    "python": {
     "delete_cmd_postfix": "",
     "delete_cmd_prefix": "del ",
     "library": "var_list.py",
     "varRefreshCmd": "print(var_dic_list())"
    },
    "r": {
     "delete_cmd_postfix": ") ",
     "delete_cmd_prefix": "rm(",
     "library": "var_list.r",
     "varRefreshCmd": "cat(var_dic_list()) "
    }
   },
   "types_to_exclude": [
    "module",
    "function",
    "builtin_function_or_method",
    "instance",
    "_Feature"
   ],
   "window_display": false
  }
 },
 "nbformat": 4,
 "nbformat_minor": 4
}