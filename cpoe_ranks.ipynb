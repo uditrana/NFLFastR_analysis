{
 "metadata": {
  "language_info": {
   "codemirror_mode": {
    "name": "ipython",
    "version": 3
   },
   "file_extension": ".py",
   "mimetype": "text/x-python",
   "name": "python",
   "nbconvert_exporter": "python",
   "pygments_lexer": "ipython3",
   "version": "3.8.2-final"
  },
  "orig_nbformat": 2,
  "kernelspec": {
   "name": "Python 3.8.2 64-bit",
   "display_name": "Python 3.8.2 64-bit",
   "metadata": {
    "interpreter": {
     "hash": "31f2aee4e71d21fbe5cf8b01ff0e069b9275f58929596ceb00d14d90e3e16cd6"
    }
   }
  }
 },
 "nbformat": 4,
 "nbformat_minor": 2,
 "cells": [
  {
   "cell_type": "code",
   "execution_count": 11,
   "metadata": {
    "tags": []
   },
   "outputs": [
    {
     "output_type": "stream",
     "name": "stdout",
     "text": "/mnt/c/Users/uditr/OneDrive/Projects/NFLFastR\n"
    }
   ],
   "source": [
    "import pandas as pd\n",
    "import os\n",
    "\n",
    "YEARS = [2016, 2017, 2018, 2019, 2020]\n",
    "\n",
    "ngs_data = pd.DataFrame()\n",
    "\n",
    "print(os.getcwd())\n",
    "#ingest\n",
    "for year in YEARS:\n",
    "    ngs_data = ngs_data.append(pd.read_csv(f\"./data/ngs_{year}_passing.csv\", low_memory=False).reset_index(drop=True), sort=True)\n",
    "\n",
    "pd.set_option('display.max_rows', 100)\n",
    "pd.set_option('display.max_columns', 300)\n",
    "ngs_data.reset_index(drop=True, inplace=True)\n",
    "# ngs_data[['season', 'week','player_display_name']].loc[(ngs_data.team_abbr=='KC') & (ngs_data.season==2016)]|"
   ]
  },
  {
   "cell_type": "code",
   "execution_count": 46,
   "metadata": {},
   "outputs": [
    {
     "output_type": "execute_result",
     "data": {
      "text/plain": "      rank\n2328  37.0\n2314  36.0\n31    39.0\n1747  39.0\n1     38.0\n...    ...\n1166   1.0\n1755   1.0\n2331   1.0\n602    2.0\n588    1.0\n\n[195 rows x 1 columns]",
      "text/html": "<div>\n<style scoped>\n    .dataframe tbody tr th:only-of-type {\n        vertical-align: middle;\n    }\n\n    .dataframe tbody tr th {\n        vertical-align: top;\n    }\n\n    .dataframe thead th {\n        text-align: right;\n    }\n</style>\n<table border=\"1\" class=\"dataframe\">\n  <thead>\n    <tr style=\"text-align: right;\">\n      <th></th>\n      <th>rank</th>\n    </tr>\n  </thead>\n  <tbody>\n    <tr>\n      <th>2328</th>\n      <td>37.0</td>\n    </tr>\n    <tr>\n      <th>2314</th>\n      <td>36.0</td>\n    </tr>\n    <tr>\n      <th>31</th>\n      <td>39.0</td>\n    </tr>\n    <tr>\n      <th>1747</th>\n      <td>39.0</td>\n    </tr>\n    <tr>\n      <th>1</th>\n      <td>38.0</td>\n    </tr>\n    <tr>\n      <th>...</th>\n      <td>...</td>\n    </tr>\n    <tr>\n      <th>1166</th>\n      <td>1.0</td>\n    </tr>\n    <tr>\n      <th>1755</th>\n      <td>1.0</td>\n    </tr>\n    <tr>\n      <th>2331</th>\n      <td>1.0</td>\n    </tr>\n    <tr>\n      <th>602</th>\n      <td>2.0</td>\n    </tr>\n    <tr>\n      <th>588</th>\n      <td>1.0</td>\n    </tr>\n  </tbody>\n</table>\n<p>195 rows × 1 columns</p>\n</div>"
     },
     "metadata": {},
     "execution_count": 46
    }
   ],
   "source": [
    "data = ngs_data.loc[(ngs_data.week==0)]\n",
    "data.sort_values('completion_percentage_above_expectation', ascending=False)[['season', 'team_abbr', 'player_display_name', 'completion_percentage_above_expectation']].groupby('season').agg(, 'team_abbr', 'player_display_name',\n",
    "                                                            rank = ('completion_percentage_above_expectation', 'rank'))\n",
    "# data.groupby('season')['team_abbr', 'player_short_name', 'completion_percentage_above_expectation'].sort()\n",
    "# data.groupby(['season', 'player_short_name']).agg(rank = ('completion_percentage_above_expectation', 'rank'))"
   ]
  },
  {
   "cell_type": "code",
   "execution_count": null,
   "metadata": {},
   "outputs": [],
   "source": []
  }
 ]
}