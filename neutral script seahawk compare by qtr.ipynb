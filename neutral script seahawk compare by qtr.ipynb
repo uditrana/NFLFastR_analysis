{
 "cells": [
  {
   "cell_type": "code",
   "execution_count": 2,
   "metadata": {
    "ExecuteTime": {
     "end_time": "2020-09-12T18:56:27.585803Z",
     "start_time": "2020-09-12T18:56:13.021144Z"
    }
   },
   "outputs": [],
   "source": [
    "import pandas as pd\n",
    "\n",
    "YEARS = [2018, 2019]\n",
    "\n",
    "data = pd.DataFrame()\n",
    "\n",
    "#ingest\n",
    "for year in YEARS:\n",
    "    data = data.append(pd.read_csv(f\"data/play_by_play_cleaned_{year}.csv.gz\", compression='gzip', low_memory=False).reset_index(drop=True), sort=True)\n",
    "\n",
    "pd.set_option('display.max_rows', 100)\n",
    "pd.set_option('display.max_columns', 300)\n",
    "data.reset_index(drop=True, inplace=True)"
   ]
  },
  {
   "cell_type": "code",
   "execution_count": 3,
   "metadata": {
    "ExecuteTime": {
     "end_time": "2020-09-12T18:56:29.149269Z",
     "start_time": "2020-09-12T18:56:28.766740Z"
    }
   },
   "outputs": [],
   "source": [
    "DOWN_UPPER = 3\n",
    "NEUTRAL = True\n",
    "if NEUTRAL:\n",
    "    neutral = data.loc[ (data.play_type!=\"no_play\") & (data.qtr<5) &\n",
    "                           (data.down<=DOWN_UPPER) & (data.half_seconds_remaining>120) &\n",
    "                                     (data.wp>=.2) & (data.wp<=.8)].reset_index(drop=True)\n",
    "else:\n",
    "     neutral = data.loc[ (data.play_type!=\"no_play\") & (data.qtr<5)].reset_index(drop=True)"
   ]
  },
  {
   "cell_type": "code",
   "execution_count": 5,
   "metadata": {
    "ExecuteTime": {
     "end_time": "2020-09-12T18:57:28.418310Z",
     "start_time": "2020-09-12T18:57:28.035281Z"
    },
    "scrolled": true
   },
   "outputs": [
    {
     "data": {
      "text/html": [
       "<div>\n",
       "<style scoped>\n",
       "    .dataframe tbody tr th:only-of-type {\n",
       "        vertical-align: middle;\n",
       "    }\n",
       "\n",
       "    .dataframe tbody tr th {\n",
       "        vertical-align: top;\n",
       "    }\n",
       "\n",
       "    .dataframe thead th {\n",
       "        text-align: right;\n",
       "    }\n",
       "</style>\n",
       "<table border=\"1\" class=\"dataframe\">\n",
       "  <thead>\n",
       "    <tr style=\"text-align: right;\">\n",
       "      <th></th>\n",
       "      <th>season</th>\n",
       "      <th>qtr</th>\n",
       "      <th>play_count_run_lg</th>\n",
       "      <th>avg_epa_run_lg</th>\n",
       "      <th>epa_succ_rate_run_lg</th>\n",
       "      <th>play_count_pass_lg</th>\n",
       "      <th>avg_epa_pass_lg</th>\n",
       "      <th>epa_succ_rate_pass_lg</th>\n",
       "      <th>play_count_run_sea</th>\n",
       "      <th>avg_epa_run_sea</th>\n",
       "      <th>epa_succ_rate_run_sea</th>\n",
       "      <th>play_count_pass_sea</th>\n",
       "      <th>avg_epa_pass_sea</th>\n",
       "      <th>epa_succ_rate_pass_sea</th>\n",
       "    </tr>\n",
       "  </thead>\n",
       "  <tbody>\n",
       "    <tr>\n",
       "      <th>4</th>\n",
       "      <td>2019</td>\n",
       "      <td>1</td>\n",
       "      <td>2587</td>\n",
       "      <td>0.01</td>\n",
       "      <td>0.43</td>\n",
       "      <td>4164</td>\n",
       "      <td>-0.02</td>\n",
       "      <td>0.43</td>\n",
       "      <td>134</td>\n",
       "      <td>-0.05</td>\n",
       "      <td>0.44</td>\n",
       "      <td>135</td>\n",
       "      <td>-0.12</td>\n",
       "      <td>0.42</td>\n",
       "    </tr>\n",
       "    <tr>\n",
       "      <th>5</th>\n",
       "      <td>2019</td>\n",
       "      <td>2</td>\n",
       "      <td>1790</td>\n",
       "      <td>-0.01</td>\n",
       "      <td>0.42</td>\n",
       "      <td>2830</td>\n",
       "      <td>0.02</td>\n",
       "      <td>0.44</td>\n",
       "      <td>105</td>\n",
       "      <td>-0.04</td>\n",
       "      <td>0.41</td>\n",
       "      <td>102</td>\n",
       "      <td>0.26</td>\n",
       "      <td>0.50</td>\n",
       "    </tr>\n",
       "    <tr>\n",
       "      <th>6</th>\n",
       "      <td>2019</td>\n",
       "      <td>3</td>\n",
       "      <td>1305</td>\n",
       "      <td>0.02</td>\n",
       "      <td>0.45</td>\n",
       "      <td>2251</td>\n",
       "      <td>0.01</td>\n",
       "      <td>0.45</td>\n",
       "      <td>60</td>\n",
       "      <td>0.02</td>\n",
       "      <td>0.48</td>\n",
       "      <td>78</td>\n",
       "      <td>0.12</td>\n",
       "      <td>0.50</td>\n",
       "    </tr>\n",
       "    <tr>\n",
       "      <th>7</th>\n",
       "      <td>2019</td>\n",
       "      <td>4</td>\n",
       "      <td>852</td>\n",
       "      <td>0.04</td>\n",
       "      <td>0.44</td>\n",
       "      <td>1259</td>\n",
       "      <td>-0.01</td>\n",
       "      <td>0.42</td>\n",
       "      <td>15</td>\n",
       "      <td>0.58</td>\n",
       "      <td>0.60</td>\n",
       "      <td>24</td>\n",
       "      <td>-0.23</td>\n",
       "      <td>0.29</td>\n",
       "    </tr>\n",
       "  </tbody>\n",
       "</table>\n",
       "</div>"
      ],
      "text/plain": [
       "   season  qtr  play_count_run_lg  avg_epa_run_lg  epa_succ_rate_run_lg  \\\n",
       "4    2019    1               2587            0.01                  0.43   \n",
       "5    2019    2               1790           -0.01                  0.42   \n",
       "6    2019    3               1305            0.02                  0.45   \n",
       "7    2019    4                852            0.04                  0.44   \n",
       "\n",
       "   play_count_pass_lg  avg_epa_pass_lg  epa_succ_rate_pass_lg  \\\n",
       "4                4164            -0.02                   0.43   \n",
       "5                2830             0.02                   0.44   \n",
       "6                2251             0.01                   0.45   \n",
       "7                1259            -0.01                   0.42   \n",
       "\n",
       "   play_count_run_sea  avg_epa_run_sea  epa_succ_rate_run_sea  \\\n",
       "4                 134            -0.05                   0.44   \n",
       "5                 105            -0.04                   0.41   \n",
       "6                  60             0.02                   0.48   \n",
       "7                  15             0.58                   0.60   \n",
       "\n",
       "   play_count_pass_sea  avg_epa_pass_sea  epa_succ_rate_pass_sea  \n",
       "4                  135             -0.12                    0.42  \n",
       "5                  102              0.26                    0.50  \n",
       "6                   78              0.12                    0.50  \n",
       "7                   24             -0.23                    0.29  "
      ]
     },
     "execution_count": 5,
     "metadata": {},
     "output_type": "execute_result"
    }
   ],
   "source": [
    "import numpy as np\n",
    "def epa_success(epa):\n",
    "    return 1 if epa>0 else 0\n",
    "\n",
    "runs = neutral.loc[(data.play_type=='run')]\n",
    "passes = neutral.loc[(data.play_type=='pass')]\n",
    "sea_runs = runs.loc[(data.posteam=='SEA')]\n",
    "sea_passes = passes.loc[(data.posteam=='SEA')]\n",
    "\n",
    "run_aggs = runs.groupby(['season', 'qtr']).agg(\n",
    "                    play_count = ('play_id', 'count'),\n",
    "                    avg_epa = ('epa', 'mean'),\n",
    "                    epa_succ_rate = ('epa', lambda x: (x.map(epa_success).mean()))).round(2)\n",
    "pass_aggs = passes.groupby(['season', 'qtr']).agg(\n",
    "                    play_count = ('play_id', 'count'),\n",
    "                    avg_epa = ('epa', 'mean'),\n",
    "                    epa_succ_rate = ('epa', lambda x: (x.map(epa_success).mean()))).round(2)\n",
    "sea_pass_aggs = sea_passes.groupby(['season', 'qtr']).agg(\n",
    "                    play_count = ('play_id', 'count'),\n",
    "                    avg_epa = ('epa', 'mean'),\n",
    "                    epa_succ_rate = ('epa', lambda x: (x.map(epa_success).mean()))).round(2)\n",
    "sea_run_aggs = sea_runs.groupby(['season', 'qtr']).agg(\n",
    "                    play_count = ('play_id', 'count'),\n",
    "                    avg_epa = ('epa', 'mean'),\n",
    "                    epa_succ_rate = ('epa', lambda x: (x.map(epa_success).mean()))).round(2)\n",
    "all = (run_aggs.join(pass_aggs, lsuffix='_run', rsuffix='_pass')).join(sea_run_aggs.join(sea_pass_aggs, lsuffix='_run', rsuffix='_pass'), lsuffix='_lg', rsuffix='_sea') \n",
    "all.reset_index(inplace=True)\n",
    "all.loc[all.season==2019]\n",
    "# all_run = run_aggs.join(sea_run_aggs, lsuffix='_lg', rsuffix='_sea')\n",
    "# all_pass = pass_aggs.join(sea_pass_aggs, lsuffix='_lg', rsuffix='_sea')"
   ]
  }
 ],
 "metadata": {
  "kernelspec": {
   "display_name": "Python 3",
   "language": "python",
   "name": "python3"
  },
  "language_info": {
   "codemirror_mode": {
    "name": "ipython",
    "version": 3
   },
   "file_extension": ".py",
   "mimetype": "text/x-python",
   "name": "python",
   "nbconvert_exporter": "python",
   "pygments_lexer": "ipython3",
   "version": "3.8.3"
  },
  "toc": {
   "base_numbering": 1,
   "nav_menu": {},
   "number_sections": true,
   "sideBar": true,
   "skip_h1_title": false,
   "title_cell": "Table of Contents",
   "title_sidebar": "Contents",
   "toc_cell": false,
   "toc_position": {},
   "toc_section_display": true,
   "toc_window_display": false
  },
  "varInspector": {
   "cols": {
    "lenName": 16,
    "lenType": 16,
    "lenVar": 40
   },
   "kernels_config": {
    "python": {
     "delete_cmd_postfix": "",
     "delete_cmd_prefix": "del ",
     "library": "var_list.py",
     "varRefreshCmd": "print(var_dic_list())"
    },
    "r": {
     "delete_cmd_postfix": ") ",
     "delete_cmd_prefix": "rm(",
     "library": "var_list.r",
     "varRefreshCmd": "cat(var_dic_list()) "
    }
   },
   "types_to_exclude": [
    "module",
    "function",
    "builtin_function_or_method",
    "instance",
    "_Feature"
   ],
   "window_display": false
  }
 },
 "nbformat": 4,
 "nbformat_minor": 4
}
