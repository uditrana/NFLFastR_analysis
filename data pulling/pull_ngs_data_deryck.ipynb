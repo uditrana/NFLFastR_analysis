{
 "cells": [
  {
   "cell_type": "code",
   "execution_count": 2,
   "metadata": {
    "ExecuteTime": {
     "end_time": "2020-09-16T04:15:28.363523Z",
     "start_time": "2020-09-16T04:15:23.609302Z"
    }
   },
   "outputs": [
    {
     "name": "stdout",
     "output_type": "stream",
     "text": [
      "/home/ubae/projects/nflFastR/notebooks/data/ngs_2016.csv\n",
      "/home/ubae/projects/nflFastR/notebooks/data/ngs_2017.csv\n",
      "/home/ubae/projects/nflFastR/notebooks/data/ngs_2018.csv\n",
      "/home/ubae/projects/nflFastR/notebooks/data/ngs_2019.csv\n",
      "/home/ubae/projects/nflFastR/notebooks/data/ngs_2020.csv\n"
     ]
    }
   ],
   "source": [
    "import pandas as pd \n",
    "# YEARS = [2000+ x for x in range(10, 21)]\n",
    "YEARS = [2016, 2017, 2018, 2019, 2020]\n",
    "\n",
    "ngs_teamId_to_teamName = {200: \"ATL\", 325: \"BAL\", 610: \"BUF\",\n",
    "                         750: \"CAR\", 810: \"CHI\", 920: 'CIN',\n",
    "                         1050: 'CLE', 1200: 'DAL'}\n",
    "\n",
    "for year in YEARS:\n",
    "    data = pd.read_csv(f'https://raw.githubusercontent.com/Deryck97/nfl_nextgenstats_data/master/data/nextgen_{year}.csv', low_memory=False)\n",
    "#     data = pd.read_csv('https://github.com/guga31bb/nflfastR-data/blob/master/data/' \\\n",
    "#                          'play_by_play_' + str(year) + '.csv.gz?raw=True',\n",
    "#                          compression='gzip', low_memory=False)\n",
    "    fname = f\"/home/ubae/projects/nflFastR/notebooks/data/ngs_{year}.csv\"\n",
    "    print(fname)\n",
    "    data.to_csv(fname, index=False)"
   ]
  },
  {
   "cell_type": "code",
   "execution_count": null,
   "metadata": {},
   "outputs": [],
   "source": []
  }
 ],
 "metadata": {
  "kernelspec": {
   "display_name": "Python 3",
   "language": "python",
   "name": "python3"
  },
  "language_info": {
   "codemirror_mode": {
    "name": "ipython",
    "version": 3
   },
   "file_extension": ".py",
   "mimetype": "text/x-python",
   "name": "python",
   "nbconvert_exporter": "python",
   "pygments_lexer": "ipython3",
   "version": "3.8.3"
  },
  "toc": {
   "base_numbering": 1,
   "nav_menu": {},
   "number_sections": true,
   "sideBar": true,
   "skip_h1_title": false,
   "title_cell": "Table of Contents",
   "title_sidebar": "Contents",
   "toc_cell": false,
   "toc_position": {},
   "toc_section_display": true,
   "toc_window_display": false
  },
  "varInspector": {
   "cols": {
    "lenName": 16,
    "lenType": 16,
    "lenVar": 40
   },
   "kernels_config": {
    "python": {
     "delete_cmd_postfix": "",
     "delete_cmd_prefix": "del ",
     "library": "var_list.py",
     "varRefreshCmd": "print(var_dic_list())"
    },
    "r": {
     "delete_cmd_postfix": ") ",
     "delete_cmd_prefix": "rm(",
     "library": "var_list.r",
     "varRefreshCmd": "cat(var_dic_list()) "
    }
   },
   "types_to_exclude": [
    "module",
    "function",
    "builtin_function_or_method",
    "instance",
    "_Feature"
   ],
   "window_display": false
  }
 },
 "nbformat": 4,
 "nbformat_minor": 4
}
