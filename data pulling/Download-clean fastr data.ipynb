{
 "cells": [
  {
   "cell_type": "code",
   "execution_count": 1,
   "metadata": {
    "ExecuteTime": {
     "end_time": "2020-09-16T04:15:58.913118Z",
     "start_time": "2020-09-16T04:14:11.869235Z"
    },
    "tags": []
   },
   "outputs": [
    {
     "output_type": "stream",
     "name": "stdout",
     "text": [
      "../data/play_by_play_1999.csv.gz\n",
      "../data/play_by_play_2000.csv.gz\n",
      "../data/play_by_play_2001.csv.gz\n",
      "../data/play_by_play_2002.csv.gz\n",
      "../data/play_by_play_2003.csv.gz\n",
      "../data/play_by_play_2004.csv.gz\n",
      "../data/play_by_play_2005.csv.gz\n",
      "../data/play_by_play_2006.csv.gz\n",
      "../data/play_by_play_2007.csv.gz\n",
      "../data/play_by_play_2008.csv.gz\n",
      "../data/play_by_play_2009.csv.gz\n",
      "../data/play_by_play_2010.csv.gz\n",
      "../data/play_by_play_2011.csv.gz\n",
      "../data/play_by_play_2012.csv.gz\n",
      "../data/play_by_play_2013.csv.gz\n",
      "../data/play_by_play_2014.csv.gz\n",
      "../data/play_by_play_2015.csv.gz\n",
      "../data/play_by_play_2016.csv.gz\n",
      "../data/play_by_play_2017.csv.gz\n",
      "../data/play_by_play_2018.csv.gz\n",
      "../data/play_by_play_2019.csv.gz\n",
      "../data/play_by_play_2020.csv.gz\n"
     ]
    }
   ],
   "source": [
    "import pandas as pd \n",
    "# download raw data\n",
    "YEARS = list(range(1999, 2021))\n",
    "# YEARS = [2000+ x for x in range(10, 21)]\n",
    "# YEARS = [2020]\n",
    "for year in YEARS:\n",
    "    data = pd.read_csv('https://github.com/guga31bb/nflfastR-data/blob/master/data/' \\\n",
    "                         'play_by_play_' + str(year) + '.csv.gz?raw=True',\n",
    "                         compression='gzip', low_memory=False)\n",
    "    fname = f\"../data/play_by_play_{year}.csv.gz\"\n",
    "    print(fname)\n",
    "    data.to_csv(fname, compression='gzip', index=False)"
   ]
  },
  {
   "cell_type": "code",
   "execution_count": 2,
   "metadata": {},
   "outputs": [
    {
     "output_type": "stream",
     "name": "stdout",
     "text": [
      "../data/play_by_play_cleaned_1999.csv.gz\n",
      "../data/play_by_play_cleaned_2000.csv.gz\n",
      "../data/play_by_play_cleaned_2001.csv.gz\n",
      "../data/play_by_play_cleaned_2002.csv.gz\n",
      "../data/play_by_play_cleaned_2003.csv.gz\n",
      "../data/play_by_play_cleaned_2004.csv.gz\n",
      "../data/play_by_play_cleaned_2005.csv.gz\n",
      "../data/play_by_play_cleaned_2006.csv.gz\n",
      "../data/play_by_play_cleaned_2007.csv.gz\n",
      "../data/play_by_play_cleaned_2008.csv.gz\n",
      "../data/play_by_play_cleaned_2009.csv.gz\n",
      "../data/play_by_play_cleaned_2010.csv.gz\n",
      "../data/play_by_play_cleaned_2011.csv.gz\n",
      "../data/play_by_play_cleaned_2012.csv.gz\n",
      "../data/play_by_play_cleaned_2013.csv.gz\n",
      "../data/play_by_play_cleaned_2014.csv.gz\n",
      "../data/play_by_play_cleaned_2015.csv.gz\n",
      "../data/play_by_play_cleaned_2016.csv.gz\n",
      "../data/play_by_play_cleaned_2017.csv.gz\n",
      "../data/play_by_play_cleaned_2018.csv.gz\n",
      "../data/play_by_play_cleaned_2019.csv.gz\n",
      "../data/play_by_play_cleaned_2020.csv.gz\n"
     ]
    }
   ],
   "source": [
    "# clean data for most analysis\n",
    "\n",
    "def cleanData(d):\n",
    "    d.drop(['passer_player_name', 'passer_player_id',\n",
    "               'rusher_player_name', 'rusher_player_id',\n",
    "               'receiver_player_name', 'receiver_player_id'],\n",
    "              axis=1, inplace=True) #vestigial columns\n",
    "\n",
    "    d = d.loc[(d.play_type.isin(['no_play','pass','run'])) & (d.epa.isna()==False)] # filter to core plays\n",
    "\n",
    "    # set play_Type to match call (fixes scrambles)\n",
    "    d.play_type.loc[d['pass']==1] = 'pass'\n",
    "    d.play_type.loc[d.rush==1] = 'run'\n",
    "\n",
    "\n",
    "    d.reset_index(drop=True, inplace=True)\n",
    "    return d\n",
    "\n",
    "pd.options.mode.chained_assignment = None\n",
    "for year in YEARS:\n",
    "    i_data = pd.read_csv(f\"../data/play_by_play_{year}.csv.gz\", compression='gzip', low_memory=False)\n",
    "    i_data = cleanData(i_data)\n",
    "    fname = f\"../data/play_by_play_cleaned_{year}.csv.gz\"\n",
    "    print(fname)\n",
    "    i_data.to_csv(fname, compression='gzip', index=False)"
   ]
  },
  {
   "cell_type": "code",
   "execution_count": null,
   "metadata": {},
   "outputs": [],
   "source": []
  }
 ],
 "metadata": {
  "kernelspec": {
   "display_name": "Python 3",
   "language": "python",
   "name": "python3"
  },
  "language_info": {
   "codemirror_mode": {
    "name": "ipython",
    "version": 3
   },
   "file_extension": ".py",
   "mimetype": "text/x-python",
   "name": "python",
   "nbconvert_exporter": "python",
   "pygments_lexer": "ipython3",
   "version": "3.8.2-final"
  },
  "toc": {
   "base_numbering": 1,
   "nav_menu": {},
   "number_sections": true,
   "sideBar": true,
   "skip_h1_title": false,
   "title_cell": "Table of Contents",
   "title_sidebar": "Contents",
   "toc_cell": false,
   "toc_position": {},
   "toc_section_display": true,
   "toc_window_display": false
  },
  "varInspector": {
   "cols": {
    "lenName": 16,
    "lenType": 16,
    "lenVar": 40
   },
   "kernels_config": {
    "python": {
     "delete_cmd_postfix": "",
     "delete_cmd_prefix": "del ",
     "library": "var_list.py",
     "varRefreshCmd": "print(var_dic_list())"
    },
    "r": {
     "delete_cmd_postfix": ") ",
     "delete_cmd_prefix": "rm(",
     "library": "var_list.r",
     "varRefreshCmd": "cat(var_dic_list()) "
    }
   },
   "types_to_exclude": [
    "module",
    "function",
    "builtin_function_or_method",
    "instance",
    "_Feature"
   ],
   "window_display": false
  }
 },
 "nbformat": 4,
 "nbformat_minor": 4
}